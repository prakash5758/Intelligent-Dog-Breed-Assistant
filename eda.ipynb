{
 "cells": [
  {
   "cell_type": "code",
   "execution_count": 8,
   "metadata": {},
   "outputs": [
    {
     "name": "stdout",
     "output_type": "stream",
     "text": [
      "Collecting sentence-transformersNote: you may need to restart the kernel to use updated packages.\n"
     ]
    },
    {
     "name": "stderr",
     "output_type": "stream",
     "text": [
      "WARNING: Ignoring invalid distribution -rpcio (c:\\users\\prakash.pandey\\miniconda3\\envs\\mle-dev\\lib\\site-packages)\n",
      "WARNING: Ignoring invalid distribution -rpcio (c:\\users\\prakash.pandey\\miniconda3\\envs\\mle-dev\\lib\\site-packages)\n",
      "WARNING: Ignoring invalid distribution -rpcio (c:\\users\\prakash.pandey\\miniconda3\\envs\\mle-dev\\lib\\site-packages)\n",
      "    WARNING: Ignoring invalid distribution -rpcio (c:\\users\\prakash.pandey\\miniconda3\\envs\\mle-dev\\lib\\site-packages)\n",
      "    WARNING: Ignoring invalid distribution -rpcio (c:\\users\\prakash.pandey\\miniconda3\\envs\\mle-dev\\lib\\site-packages)\n",
      "    WARNING: Ignoring invalid distribution -rpcio (c:\\users\\prakash.pandey\\miniconda3\\envs\\mle-dev\\lib\\site-packages)\n",
      "    WARNING: Ignoring invalid distribution -rpcio (c:\\users\\prakash.pandey\\miniconda3\\envs\\mle-dev\\lib\\site-packages)\n",
      "WARNING: Ignoring invalid distribution -rpcio (c:\\users\\prakash.pandey\\miniconda3\\envs\\mle-dev\\lib\\site-packages)\n",
      "WARNING: Ignoring invalid distribution -rpcio (c:\\users\\prakash.pandey\\miniconda3\\envs\\mle-dev\\lib\\site-packages)\n",
      "WARNING: Ignoring invalid distribution -rpcio (c:\\users\\prakash.pandey\\miniconda3\\envs\\mle-dev\\lib\\site-packages)\n",
      "WARNING: Ignoring invalid distribution -rpcio (c:\\users\\prakash.pandey\\miniconda3\\envs\\mle-dev\\lib\\site-packages)\n",
      "WARNING: Ignoring invalid distribution -rpcio (c:\\users\\prakash.pandey\\miniconda3\\envs\\mle-dev\\lib\\site-packages)\n",
      "WARNING: Ignoring invalid distribution -rpcio (c:\\users\\prakash.pandey\\miniconda3\\envs\\mle-dev\\lib\\site-packages)\n",
      "WARNING: Ignoring invalid distribution -rpcio (c:\\users\\prakash.pandey\\miniconda3\\envs\\mle-dev\\lib\\site-packages)\n",
      "WARNING: Ignoring invalid distribution -rpcio (c:\\users\\prakash.pandey\\miniconda3\\envs\\mle-dev\\lib\\site-packages)\n"
     ]
    },
    {
     "name": "stdout",
     "output_type": "stream",
     "text": [
      "\n",
      "  Downloading sentence_transformers-3.4.1-py3-none-any.whl (275 kB)\n",
      "     -------------------------------------- 275.9/275.9 kB 5.7 MB/s eta 0:00:00\n",
      "Requirement already satisfied: scikit-learn in c:\\users\\prakash.pandey\\miniconda3\\envs\\mle-dev\\lib\\site-packages (from sentence-transformers) (1.2.0)\n",
      "Requirement already satisfied: torch>=1.11.0 in c:\\users\\prakash.pandey\\miniconda3\\envs\\mle-dev\\lib\\site-packages (from sentence-transformers) (2.0.1)\n",
      "Requirement already satisfied: Pillow in c:\\users\\prakash.pandey\\miniconda3\\envs\\mle-dev\\lib\\site-packages (from sentence-transformers) (9.4.0)\n",
      "Requirement already satisfied: tqdm in c:\\users\\prakash.pandey\\miniconda3\\envs\\mle-dev\\lib\\site-packages (from sentence-transformers) (4.64.1)\n",
      "Requirement already satisfied: scipy in c:\\users\\prakash.pandey\\miniconda3\\envs\\mle-dev\\lib\\site-packages (from sentence-transformers) (1.9.3)\n",
      "Collecting huggingface-hub>=0.20.0\n",
      "  Downloading huggingface_hub-0.29.1-py3-none-any.whl (468 kB)\n",
      "     -------------------------------------- 468.0/468.0 kB 7.4 MB/s eta 0:00:00\n",
      "Collecting transformers<5.0.0,>=4.41.0\n",
      "  Downloading transformers-4.49.0-py3-none-any.whl (10.0 MB)\n",
      "     --------------------------------------- 10.0/10.0 MB 10.5 MB/s eta 0:00:00\n",
      "Requirement already satisfied: pyyaml>=5.1 in c:\\users\\prakash.pandey\\miniconda3\\envs\\mle-dev\\lib\\site-packages (from huggingface-hub>=0.20.0->sentence-transformers) (6.0)\n",
      "Requirement already satisfied: requests in c:\\users\\prakash.pandey\\miniconda3\\envs\\mle-dev\\lib\\site-packages (from huggingface-hub>=0.20.0->sentence-transformers) (2.28.1)\n",
      "Requirement already satisfied: fsspec>=2023.5.0 in c:\\users\\prakash.pandey\\miniconda3\\envs\\mle-dev\\lib\\site-packages (from huggingface-hub>=0.20.0->sentence-transformers) (2023.6.0)\n",
      "Requirement already satisfied: packaging>=20.9 in c:\\users\\prakash.pandey\\miniconda3\\envs\\mle-dev\\lib\\site-packages (from huggingface-hub>=0.20.0->sentence-transformers) (22.0)\n",
      "Requirement already satisfied: filelock in c:\\users\\prakash.pandey\\miniconda3\\envs\\mle-dev\\lib\\site-packages (from huggingface-hub>=0.20.0->sentence-transformers) (3.12.4)\n",
      "Requirement already satisfied: typing-extensions>=3.7.4.3 in c:\\users\\prakash.pandey\\miniconda3\\envs\\mle-dev\\lib\\site-packages (from huggingface-hub>=0.20.0->sentence-transformers) (4.7.1)\n",
      "Requirement already satisfied: sympy in c:\\users\\prakash.pandey\\miniconda3\\envs\\mle-dev\\lib\\site-packages (from torch>=1.11.0->sentence-transformers) (1.12)\n",
      "Requirement already satisfied: networkx in c:\\users\\prakash.pandey\\miniconda3\\envs\\mle-dev\\lib\\site-packages (from torch>=1.11.0->sentence-transformers) (3.1)\n",
      "Requirement already satisfied: jinja2 in c:\\users\\prakash.pandey\\miniconda3\\envs\\mle-dev\\lib\\site-packages (from torch>=1.11.0->sentence-transformers) (3.1.2)\n",
      "Requirement already satisfied: colorama in c:\\users\\prakash.pandey\\miniconda3\\envs\\mle-dev\\lib\\site-packages (from tqdm->sentence-transformers) (0.4.6)\n",
      "Requirement already satisfied: regex!=2019.12.17 in c:\\users\\prakash.pandey\\miniconda3\\envs\\mle-dev\\lib\\site-packages (from transformers<5.0.0,>=4.41.0->sentence-transformers) (2023.8.8)\n",
      "Collecting safetensors>=0.4.1\n",
      "  Downloading safetensors-0.5.3-cp38-abi3-win_amd64.whl (308 kB)\n",
      "     -------------------------------------- 308.9/308.9 kB 9.6 MB/s eta 0:00:00\n",
      "Collecting tokenizers<0.22,>=0.21\n",
      "  Downloading tokenizers-0.21.0-cp39-abi3-win_amd64.whl (2.4 MB)\n",
      "     ---------------------------------------- 2.4/2.4 MB 3.2 MB/s eta 0:00:00\n",
      "Requirement already satisfied: numpy>=1.17 in c:\\users\\prakash.pandey\\miniconda3\\envs\\mle-dev\\lib\\site-packages (from transformers<5.0.0,>=4.41.0->sentence-transformers) (1.23.5)\n",
      "Requirement already satisfied: threadpoolctl>=2.0.0 in c:\\users\\prakash.pandey\\miniconda3\\envs\\mle-dev\\lib\\site-packages (from scikit-learn->sentence-transformers) (3.1.0)\n",
      "Requirement already satisfied: joblib>=1.1.1 in c:\\users\\prakash.pandey\\miniconda3\\envs\\mle-dev\\lib\\site-packages (from scikit-learn->sentence-transformers) (1.2.0)\n",
      "Requirement already satisfied: MarkupSafe>=2.0 in c:\\users\\prakash.pandey\\miniconda3\\envs\\mle-dev\\lib\\site-packages (from jinja2->torch>=1.11.0->sentence-transformers) (2.1.1)\n",
      "Requirement already satisfied: idna<4,>=2.5 in c:\\users\\prakash.pandey\\miniconda3\\envs\\mle-dev\\lib\\site-packages (from requests->huggingface-hub>=0.20.0->sentence-transformers) (3.4)\n",
      "Requirement already satisfied: certifi>=2017.4.17 in c:\\users\\prakash.pandey\\miniconda3\\envs\\mle-dev\\lib\\site-packages (from requests->huggingface-hub>=0.20.0->sentence-transformers) (2022.12.7)\n",
      "Requirement already satisfied: urllib3<1.27,>=1.21.1 in c:\\users\\prakash.pandey\\miniconda3\\envs\\mle-dev\\lib\\site-packages (from requests->huggingface-hub>=0.20.0->sentence-transformers) (1.26.13)\n",
      "Requirement already satisfied: charset-normalizer<3,>=2 in c:\\users\\prakash.pandey\\miniconda3\\envs\\mle-dev\\lib\\site-packages (from requests->huggingface-hub>=0.20.0->sentence-transformers) (2.1.1)\n",
      "Requirement already satisfied: mpmath>=0.19 in c:\\users\\prakash.pandey\\miniconda3\\envs\\mle-dev\\lib\\site-packages (from sympy->torch>=1.11.0->sentence-transformers) (1.3.0)\n",
      "Installing collected packages: safetensors, huggingface-hub, tokenizers, transformers, sentence-transformers\n",
      "  Attempting uninstall: safetensors\n",
      "    Found existing installation: safetensors 0.3.3\n",
      "    Uninstalling safetensors-0.3.3:\n",
      "      Successfully uninstalled safetensors-0.3.3\n",
      "  Attempting uninstall: huggingface-hub\n",
      "    Found existing installation: huggingface-hub 0.17.3\n",
      "    Uninstalling huggingface-hub-0.17.3:\n",
      "      Successfully uninstalled huggingface-hub-0.17.3\n",
      "  Attempting uninstall: tokenizers\n",
      "    Found existing installation: tokenizers 0.13.3\n",
      "    Uninstalling tokenizers-0.13.3:\n",
      "      Successfully uninstalled tokenizers-0.13.3\n",
      "  Attempting uninstall: transformers\n",
      "    Found existing installation: transformers 4.33.3\n",
      "    Uninstalling transformers-4.33.3:\n",
      "      Successfully uninstalled transformers-4.33.3\n",
      "Successfully installed huggingface-hub-0.29.1 safetensors-0.5.3 sentence-transformers-3.4.1 tokenizers-0.21.0 transformers-4.49.0\n"
     ]
    }
   ],
   "source": [
    "pip install sentence-transformers"
   ]
  },
  {
   "cell_type": "code",
   "execution_count": 9,
   "metadata": {},
   "outputs": [
    {
     "name": "stderr",
     "output_type": "stream",
     "text": [
      "c:\\Users\\prakash.pandey\\Miniconda3\\envs\\mle-dev\\lib\\site-packages\\tqdm\\auto.py:22: TqdmWarning: IProgress not found. Please update jupyter and ipywidgets. See https://ipywidgets.readthedocs.io/en/stable/user_install.html\n",
      "  from .autonotebook import tqdm as notebook_tqdm\n"
     ]
    }
   ],
   "source": [
    "import pandas as pd\n",
    "import torch\n",
    "from sentence_transformers import SentenceTransformer, util"
   ]
  },
  {
   "cell_type": "code",
   "execution_count": 10,
   "metadata": {},
   "outputs": [],
   "source": [
    "data = pd.read_csv('./akc-data-latest.csv')"
   ]
  },
  {
   "cell_type": "code",
   "execution_count": 3,
   "metadata": {},
   "outputs": [
    {
     "name": "stdout",
     "output_type": "stream",
     "text": [
      "<class 'pandas.core.frame.DataFrame'>\n",
      "RangeIndex: 277 entries, 0 to 276\n",
      "Data columns (total 21 columns):\n",
      " #   Column                       Non-Null Count  Dtype  \n",
      "---  ------                       --------------  -----  \n",
      " 0   Dog_name                     277 non-null    object \n",
      " 1   description                  277 non-null    object \n",
      " 2   temperament                  276 non-null    object \n",
      " 3   popularity                   198 non-null    object \n",
      " 4   min_height                   277 non-null    float64\n",
      " 5   max_height                   277 non-null    float64\n",
      " 6   min_weight                   275 non-null    float64\n",
      " 7   max_weight                   275 non-null    float64\n",
      " 8   min_expectancy               274 non-null    float64\n",
      " 9   max_expectancy               274 non-null    float64\n",
      " 10  group                        277 non-null    object \n",
      " 11  grooming_frequency_value     270 non-null    float64\n",
      " 12  grooming_frequency_category  270 non-null    object \n",
      " 13  shedding_value               257 non-null    float64\n",
      " 14  shedding_category            257 non-null    object \n",
      " 15  energy_level_value           271 non-null    float64\n",
      " 16  energy_level_category        271 non-null    object \n",
      " 17  trainability_value           253 non-null    float64\n",
      " 18  trainability_category        253 non-null    object \n",
      " 19  demeanor_value               252 non-null    float64\n",
      " 20  demeanor_category            252 non-null    object \n",
      "dtypes: float64(11), object(10)\n",
      "memory usage: 45.6+ KB\n"
     ]
    }
   ],
   "source": [
    "data.info()"
   ]
  },
  {
   "cell_type": "code",
   "execution_count": 4,
   "metadata": {},
   "outputs": [
    {
     "data": {
      "text/plain": [
       "277"
      ]
     },
     "execution_count": 4,
     "metadata": {},
     "output_type": "execute_result"
    }
   ],
   "source": [
    "data.Dog_name.nunique()"
   ]
  },
  {
   "cell_type": "code",
   "execution_count": 5,
   "metadata": {},
   "outputs": [
    {
     "data": {
      "text/html": [
       "<div>\n",
       "<style scoped>\n",
       "    .dataframe tbody tr th:only-of-type {\n",
       "        vertical-align: middle;\n",
       "    }\n",
       "\n",
       "    .dataframe tbody tr th {\n",
       "        vertical-align: top;\n",
       "    }\n",
       "\n",
       "    .dataframe thead th {\n",
       "        text-align: right;\n",
       "    }\n",
       "</style>\n",
       "<table border=\"1\" class=\"dataframe\">\n",
       "  <thead>\n",
       "    <tr style=\"text-align: right;\">\n",
       "      <th></th>\n",
       "      <th>min_height</th>\n",
       "      <th>max_height</th>\n",
       "      <th>min_weight</th>\n",
       "      <th>max_weight</th>\n",
       "      <th>min_expectancy</th>\n",
       "      <th>max_expectancy</th>\n",
       "      <th>grooming_frequency_value</th>\n",
       "      <th>shedding_value</th>\n",
       "      <th>energy_level_value</th>\n",
       "      <th>trainability_value</th>\n",
       "      <th>demeanor_value</th>\n",
       "    </tr>\n",
       "  </thead>\n",
       "  <tbody>\n",
       "    <tr>\n",
       "      <th>count</th>\n",
       "      <td>277.000000</td>\n",
       "      <td>277.000000</td>\n",
       "      <td>275.000000</td>\n",
       "      <td>275.000000</td>\n",
       "      <td>274.000000</td>\n",
       "      <td>274.000000</td>\n",
       "      <td>270.000000</td>\n",
       "      <td>257.000000</td>\n",
       "      <td>271.000000</td>\n",
       "      <td>253.000000</td>\n",
       "      <td>252.000000</td>\n",
       "    </tr>\n",
       "    <tr>\n",
       "      <th>mean</th>\n",
       "      <td>44.225801</td>\n",
       "      <td>52.720588</td>\n",
       "      <td>17.888858</td>\n",
       "      <td>27.291416</td>\n",
       "      <td>11.306569</td>\n",
       "      <td>13.832117</td>\n",
       "      <td>0.425926</td>\n",
       "      <td>0.529183</td>\n",
       "      <td>0.712915</td>\n",
       "      <td>0.624506</td>\n",
       "      <td>0.620635</td>\n",
       "    </tr>\n",
       "    <tr>\n",
       "      <th>std</th>\n",
       "      <td>14.238298</td>\n",
       "      <td>15.885454</td>\n",
       "      <td>12.290600</td>\n",
       "      <td>19.061416</td>\n",
       "      <td>1.817949</td>\n",
       "      <td>2.016668</td>\n",
       "      <td>0.198306</td>\n",
       "      <td>0.189068</td>\n",
       "      <td>0.168927</td>\n",
       "      <td>0.247271</td>\n",
       "      <td>0.201713</td>\n",
       "    </tr>\n",
       "    <tr>\n",
       "      <th>min</th>\n",
       "      <td>12.700000</td>\n",
       "      <td>17.780000</td>\n",
       "      <td>0.000000</td>\n",
       "      <td>0.000000</td>\n",
       "      <td>0.000000</td>\n",
       "      <td>0.000000</td>\n",
       "      <td>0.200000</td>\n",
       "      <td>0.200000</td>\n",
       "      <td>0.200000</td>\n",
       "      <td>0.200000</td>\n",
       "      <td>0.200000</td>\n",
       "    </tr>\n",
       "    <tr>\n",
       "      <th>25%</th>\n",
       "      <td>33.020000</td>\n",
       "      <td>38.100000</td>\n",
       "      <td>8.164663</td>\n",
       "      <td>12.927383</td>\n",
       "      <td>10.000000</td>\n",
       "      <td>13.000000</td>\n",
       "      <td>0.200000</td>\n",
       "      <td>0.400000</td>\n",
       "      <td>0.600000</td>\n",
       "      <td>0.400000</td>\n",
       "      <td>0.400000</td>\n",
       "    </tr>\n",
       "    <tr>\n",
       "      <th>50%</th>\n",
       "      <td>45.085000</td>\n",
       "      <td>53.340000</td>\n",
       "      <td>15.875733</td>\n",
       "      <td>24.947580</td>\n",
       "      <td>12.000000</td>\n",
       "      <td>14.000000</td>\n",
       "      <td>0.400000</td>\n",
       "      <td>0.600000</td>\n",
       "      <td>0.600000</td>\n",
       "      <td>0.600000</td>\n",
       "      <td>0.600000</td>\n",
       "    </tr>\n",
       "    <tr>\n",
       "      <th>75%</th>\n",
       "      <td>55.880000</td>\n",
       "      <td>66.040000</td>\n",
       "      <td>22.679619</td>\n",
       "      <td>34.019428</td>\n",
       "      <td>12.000000</td>\n",
       "      <td>15.000000</td>\n",
       "      <td>0.600000</td>\n",
       "      <td>0.600000</td>\n",
       "      <td>0.800000</td>\n",
       "      <td>0.800000</td>\n",
       "      <td>0.800000</td>\n",
       "    </tr>\n",
       "    <tr>\n",
       "      <th>max</th>\n",
       "      <td>76.200000</td>\n",
       "      <td>88.900000</td>\n",
       "      <td>68.038855</td>\n",
       "      <td>108.862169</td>\n",
       "      <td>16.000000</td>\n",
       "      <td>19.000000</td>\n",
       "      <td>1.000000</td>\n",
       "      <td>1.000000</td>\n",
       "      <td>1.000000</td>\n",
       "      <td>1.000000</td>\n",
       "      <td>1.000000</td>\n",
       "    </tr>\n",
       "  </tbody>\n",
       "</table>\n",
       "</div>"
      ],
      "text/plain": [
       "       min_height  max_height  min_weight  max_weight  min_expectancy  \\\n",
       "count  277.000000  277.000000  275.000000  275.000000      274.000000   \n",
       "mean    44.225801   52.720588   17.888858   27.291416       11.306569   \n",
       "std     14.238298   15.885454   12.290600   19.061416        1.817949   \n",
       "min     12.700000   17.780000    0.000000    0.000000        0.000000   \n",
       "25%     33.020000   38.100000    8.164663   12.927383       10.000000   \n",
       "50%     45.085000   53.340000   15.875733   24.947580       12.000000   \n",
       "75%     55.880000   66.040000   22.679619   34.019428       12.000000   \n",
       "max     76.200000   88.900000   68.038855  108.862169       16.000000   \n",
       "\n",
       "       max_expectancy  grooming_frequency_value  shedding_value  \\\n",
       "count      274.000000                270.000000      257.000000   \n",
       "mean        13.832117                  0.425926        0.529183   \n",
       "std          2.016668                  0.198306        0.189068   \n",
       "min          0.000000                  0.200000        0.200000   \n",
       "25%         13.000000                  0.200000        0.400000   \n",
       "50%         14.000000                  0.400000        0.600000   \n",
       "75%         15.000000                  0.600000        0.600000   \n",
       "max         19.000000                  1.000000        1.000000   \n",
       "\n",
       "       energy_level_value  trainability_value  demeanor_value  \n",
       "count          271.000000          253.000000      252.000000  \n",
       "mean             0.712915            0.624506        0.620635  \n",
       "std              0.168927            0.247271        0.201713  \n",
       "min              0.200000            0.200000        0.200000  \n",
       "25%              0.600000            0.400000        0.400000  \n",
       "50%              0.600000            0.600000        0.600000  \n",
       "75%              0.800000            0.800000        0.800000  \n",
       "max              1.000000            1.000000        1.000000  "
      ]
     },
     "execution_count": 5,
     "metadata": {},
     "output_type": "execute_result"
    }
   ],
   "source": [
    "data.describe()"
   ]
  },
  {
   "cell_type": "code",
   "execution_count": 6,
   "metadata": {},
   "outputs": [
    {
     "data": {
      "text/plain": [
       "Index(['Dog_name', 'description', 'temperament', 'popularity', 'min_height',\n",
       "       'max_height', 'min_weight', 'max_weight', 'min_expectancy',\n",
       "       'max_expectancy', 'group', 'grooming_frequency_value',\n",
       "       'grooming_frequency_category', 'shedding_value', 'shedding_category',\n",
       "       'energy_level_value', 'energy_level_category', 'trainability_value',\n",
       "       'trainability_category', 'demeanor_value', 'demeanor_category'],\n",
       "      dtype='object')"
      ]
     },
     "execution_count": 6,
     "metadata": {},
     "output_type": "execute_result"
    }
   ],
   "source": [
    "data.columns"
   ]
  },
  {
   "cell_type": "code",
   "execution_count": 12,
   "metadata": {},
   "outputs": [],
   "source": [
    "data.dropna(axis=0, inplace=True)"
   ]
  },
  {
   "cell_type": "code",
   "execution_count": 13,
   "metadata": {},
   "outputs": [
    {
     "data": {
      "text/plain": [
       "(188, 21)"
      ]
     },
     "execution_count": 13,
     "metadata": {},
     "output_type": "execute_result"
    }
   ],
   "source": [
    "data.shape"
   ]
  },
  {
   "cell_type": "code",
   "execution_count": 14,
   "metadata": {},
   "outputs": [],
   "source": [
    "def create_breed_text(row: pd.Series) -> str:\n",
    "    \"\"\"\n",
    "    Create an aggregated text representation for each breed using various NLP columns.\n",
    "    Exclude 'Dog_name' from the aggregation (as it is the target) or include it if it helps provide context.\n",
    "    Here, we combine multiple descriptive fields to form a richer document for each breed.\n",
    "    \"\"\"\n",
    "    # You can adjust the columns you want to include. Here, we combine several key descriptive fields.\n",
    "    columns_to_include = [\n",
    "        'description',\n",
    "        'temperament',\n",
    "        'energy_level_category',\n",
    "        'trainability_category',\n",
    "        'demeanor_category',\n",
    "        'grooming_frequency_category',\n",
    "        'shedding_category'\n",
    "    ]\n",
    "    # Concatenate available text fields, filtering out NaNs.\n",
    "    texts = [str(row[col]) for col in columns_to_include if pd.notna(row[col])]\n",
    "    return \" \".join(texts)\n",
    "\n",
    "def create_breed_embeddings(df: pd.DataFrame, model: SentenceTransformer) -> torch.Tensor:\n",
    "    \"\"\"\n",
    "    For each breed, create a text string that combines multiple NLP columns.\n",
    "    Then encode all these aggregated texts into embeddings.\n",
    "    \"\"\"\n",
    "    # Create a new column with aggregated text for each breed.\n",
    "    df['breed_text'] = df.apply(create_breed_text, axis=1)\n",
    "    texts = df['breed_text'].tolist()\n",
    "    embeddings = model.encode(texts, convert_to_tensor=True)\n",
    "    return embeddings"
   ]
  },
  {
   "cell_type": "code",
   "execution_count": 17,
   "metadata": {},
   "outputs": [
    {
     "name": "stderr",
     "output_type": "stream",
     "text": [
      "c:\\Users\\prakash.pandey\\Miniconda3\\envs\\mle-dev\\lib\\site-packages\\huggingface_hub\\file_download.py:142: UserWarning: `huggingface_hub` cache-system uses symlinks by default to efficiently store duplicated files but your machine does not support them in C:\\Users\\prakash.pandey\\.cache\\huggingface\\hub\\models--sentence-transformers--all-MiniLM-L6-v2. Caching files will still work but in a degraded version that might require more space on your disk. This warning can be disabled by setting the `HF_HUB_DISABLE_SYMLINKS_WARNING` environment variable. For more details, see https://huggingface.co/docs/huggingface_hub/how-to-cache#limitations.\n",
      "To support symlinks on Windows, you either need to activate Developer Mode or to run Python as an administrator. In order to activate developer mode, see this article: https://docs.microsoft.com/en-us/windows/apps/get-started/enable-your-device-for-development\n",
      "  warnings.warn(message)\n"
     ]
    }
   ],
   "source": [
    "model = SentenceTransformer('all-MiniLM-L6-v2')\n",
    "embeddings = create_breed_embeddings(data, model=model)"
   ]
  },
  {
   "cell_type": "code",
   "execution_count": 18,
   "metadata": {},
   "outputs": [
    {
     "data": {
      "text/plain": [
       "tensor([[-0.0575,  0.0033,  0.0428,  ..., -0.0549,  0.0493,  0.0666],\n",
       "        [-0.0670,  0.0820,  0.0762,  ..., -0.0179,  0.0767, -0.0050],\n",
       "        [-0.0092,  0.0266,  0.0282,  ..., -0.0150, -0.0589,  0.0975],\n",
       "        ...,\n",
       "        [ 0.0129,  0.0251,  0.0221,  ...,  0.0050,  0.0036,  0.0264],\n",
       "        [ 0.0508,  0.0530,  0.0181,  ..., -0.0454,  0.0456,  0.0269],\n",
       "        [ 0.0538, -0.0459,  0.0782,  ..., -0.0160,  0.0280,  0.0713]])"
      ]
     },
     "execution_count": 18,
     "metadata": {},
     "output_type": "execute_result"
    }
   ],
   "source": [
    "embeddings"
   ]
  },
  {
   "cell_type": "code",
   "execution_count": 19,
   "metadata": {},
   "outputs": [
    {
     "data": {
      "text/plain": [
       "(188, 384)"
      ]
     },
     "execution_count": 19,
     "metadata": {},
     "output_type": "execute_result"
    }
   ],
   "source": [
    "len(embeddings), len(embeddings[0])"
   ]
  },
  {
   "cell_type": "code",
   "execution_count": 20,
   "metadata": {},
   "outputs": [],
   "source": [
    "def get_recommendation(query: str, df: pd.DataFrame, breed_embeddings: torch.Tensor, model: SentenceTransformer, top_k: int = 1) -> pd.DataFrame:\n",
    "    \"\"\"\n",
    "    Compute the embedding for the user query and compare it to the breed embeddings.\n",
    "    Return the top_k breeds ranked by cosine similarity.\n",
    "    \"\"\"\n",
    "    query_embedding = model.encode(query, convert_to_tensor=True)\n",
    "    cosine_scores = util.cos_sim(query_embedding, breed_embeddings)[0]\n",
    "\n",
    "    top_results = torch.topk(cosine_scores, k=top_k)\n",
    "    recommended_breeds = df.iloc[top_results.indices.cpu().numpy()].copy()\n",
    "    recommended_breeds['similarity_score'] = top_results.values.cpu().numpy()\n",
    "    return recommended_breeds"
   ]
  },
  {
   "cell_type": "code",
   "execution_count": 26,
   "metadata": {},
   "outputs": [],
   "source": [
    "query = \"I have young kids and limited time for grooming. Which breed would suit my family?\"\n",
    "recommendation = get_recommendation(query, data, embeddings, model, top_k=3)"
   ]
  },
  {
   "cell_type": "code",
   "execution_count": 27,
   "metadata": {},
   "outputs": [
    {
     "data": {
      "text/html": [
       "<div>\n",
       "<style scoped>\n",
       "    .dataframe tbody tr th:only-of-type {\n",
       "        vertical-align: middle;\n",
       "    }\n",
       "\n",
       "    .dataframe tbody tr th {\n",
       "        vertical-align: top;\n",
       "    }\n",
       "\n",
       "    .dataframe thead th {\n",
       "        text-align: right;\n",
       "    }\n",
       "</style>\n",
       "<table border=\"1\" class=\"dataframe\">\n",
       "  <thead>\n",
       "    <tr style=\"text-align: right;\">\n",
       "      <th></th>\n",
       "      <th>Dog_name</th>\n",
       "      <th>description</th>\n",
       "      <th>temperament</th>\n",
       "      <th>energy_level_category</th>\n",
       "      <th>trainability_category</th>\n",
       "      <th>demeanor_category</th>\n",
       "      <th>grooming_frequency_category</th>\n",
       "      <th>shedding_category</th>\n",
       "    </tr>\n",
       "  </thead>\n",
       "  <tbody>\n",
       "    <tr>\n",
       "      <th>82</th>\n",
       "      <td>Collie</td>\n",
       "      <td>The Collie is a large but lithe herder standin...</td>\n",
       "      <td>Devoted, Graceful, Proud</td>\n",
       "      <td>Regular Exercise</td>\n",
       "      <td>Easy Training</td>\n",
       "      <td>Friendly</td>\n",
       "      <td>2-3 Times a Week Brushing</td>\n",
       "      <td>Seasonal</td>\n",
       "    </tr>\n",
       "    <tr>\n",
       "      <th>34</th>\n",
       "      <td>Bergamasco Sheepdog</td>\n",
       "      <td>Beneath the one-of-a-kind coat is a large, mus...</td>\n",
       "      <td>Independent, Sociable, Intelligent</td>\n",
       "      <td>Calm</td>\n",
       "      <td>Agreeable</td>\n",
       "      <td>Reserved with Strangers</td>\n",
       "      <td>Occasional Bath/Brush</td>\n",
       "      <td>Infrequent</td>\n",
       "    </tr>\n",
       "    <tr>\n",
       "      <th>109</th>\n",
       "      <td>Flat-Coated Retriever</td>\n",
       "      <td>The Flat-Coated Retriever’s eponymous flat-lyi...</td>\n",
       "      <td>Cheerful, Optimistic, Good-Humored</td>\n",
       "      <td>Needs Lots of Activity</td>\n",
       "      <td>Eager to Please</td>\n",
       "      <td>Friendly</td>\n",
       "      <td>Weekly Brushing</td>\n",
       "      <td>Regularly</td>\n",
       "    </tr>\n",
       "  </tbody>\n",
       "</table>\n",
       "</div>"
      ],
      "text/plain": [
       "                  Dog_name                                        description  \\\n",
       "82                  Collie  The Collie is a large but lithe herder standin...   \n",
       "34     Bergamasco Sheepdog  Beneath the one-of-a-kind coat is a large, mus...   \n",
       "109  Flat-Coated Retriever  The Flat-Coated Retriever’s eponymous flat-lyi...   \n",
       "\n",
       "                            temperament   energy_level_category  \\\n",
       "82             Devoted, Graceful, Proud        Regular Exercise   \n",
       "34   Independent, Sociable, Intelligent                    Calm   \n",
       "109  Cheerful, Optimistic, Good-Humored  Needs Lots of Activity   \n",
       "\n",
       "    trainability_category        demeanor_category  \\\n",
       "82          Easy Training                 Friendly   \n",
       "34              Agreeable  Reserved with Strangers   \n",
       "109       Eager to Please                 Friendly   \n",
       "\n",
       "    grooming_frequency_category shedding_category  \n",
       "82    2-3 Times a Week Brushing          Seasonal  \n",
       "34        Occasional Bath/Brush        Infrequent  \n",
       "109             Weekly Brushing         Regularly  "
      ]
     },
     "execution_count": 27,
     "metadata": {},
     "output_type": "execute_result"
    }
   ],
   "source": [
    "recommendation[['Dog_name',\n",
    "        'description',\n",
    "        'temperament',\n",
    "        'energy_level_category',\n",
    "        'trainability_category',\n",
    "        'demeanor_category',\n",
    "        'grooming_frequency_category',\n",
    "        'shedding_category'\n",
    "    ]]"
   ]
  },
  {
   "cell_type": "code",
   "execution_count": 28,
   "metadata": {},
   "outputs": [
    {
     "data": {
      "text/html": [
       "<div>\n",
       "<style scoped>\n",
       "    .dataframe tbody tr th:only-of-type {\n",
       "        vertical-align: middle;\n",
       "    }\n",
       "\n",
       "    .dataframe tbody tr th {\n",
       "        vertical-align: top;\n",
       "    }\n",
       "\n",
       "    .dataframe thead th {\n",
       "        text-align: right;\n",
       "    }\n",
       "</style>\n",
       "<table border=\"1\" class=\"dataframe\">\n",
       "  <thead>\n",
       "    <tr style=\"text-align: right;\">\n",
       "      <th></th>\n",
       "      <th>Dog_name</th>\n",
       "      <th>description</th>\n",
       "      <th>temperament</th>\n",
       "      <th>energy_level_category</th>\n",
       "      <th>trainability_category</th>\n",
       "      <th>demeanor_category</th>\n",
       "      <th>grooming_frequency_category</th>\n",
       "      <th>shedding_category</th>\n",
       "    </tr>\n",
       "  </thead>\n",
       "  <tbody>\n",
       "    <tr>\n",
       "      <th>88</th>\n",
       "      <td>Dalmatian</td>\n",
       "      <td>The Dalmatian’s delightful, eye-catching spots...</td>\n",
       "      <td>Dignified, Smart, Outgoing</td>\n",
       "      <td>Energetic</td>\n",
       "      <td>Agreeable</td>\n",
       "      <td>Alert/Responsive</td>\n",
       "      <td>Weekly Brushing</td>\n",
       "      <td>Frequent</td>\n",
       "    </tr>\n",
       "    <tr>\n",
       "      <th>106</th>\n",
       "      <td>Field Spaniel</td>\n",
       "      <td>Field Spaniels bear a family resemblance to Co...</td>\n",
       "      <td>Sweet, Fun-Loving, Sensitive</td>\n",
       "      <td>Regular Exercise</td>\n",
       "      <td>Agreeable</td>\n",
       "      <td>Reserved with Strangers</td>\n",
       "      <td>Weekly Brushing</td>\n",
       "      <td>Regularly</td>\n",
       "    </tr>\n",
       "    <tr>\n",
       "      <th>34</th>\n",
       "      <td>Bergamasco Sheepdog</td>\n",
       "      <td>Beneath the one-of-a-kind coat is a large, mus...</td>\n",
       "      <td>Independent, Sociable, Intelligent</td>\n",
       "      <td>Calm</td>\n",
       "      <td>Agreeable</td>\n",
       "      <td>Reserved with Strangers</td>\n",
       "      <td>Occasional Bath/Brush</td>\n",
       "      <td>Infrequent</td>\n",
       "    </tr>\n",
       "  </tbody>\n",
       "</table>\n",
       "</div>"
      ],
      "text/plain": [
       "                Dog_name                                        description  \\\n",
       "88             Dalmatian  The Dalmatian’s delightful, eye-catching spots...   \n",
       "106        Field Spaniel  Field Spaniels bear a family resemblance to Co...   \n",
       "34   Bergamasco Sheepdog  Beneath the one-of-a-kind coat is a large, mus...   \n",
       "\n",
       "                            temperament energy_level_category  \\\n",
       "88           Dignified, Smart, Outgoing             Energetic   \n",
       "106        Sweet, Fun-Loving, Sensitive      Regular Exercise   \n",
       "34   Independent, Sociable, Intelligent                  Calm   \n",
       "\n",
       "    trainability_category        demeanor_category  \\\n",
       "88              Agreeable         Alert/Responsive   \n",
       "106             Agreeable  Reserved with Strangers   \n",
       "34              Agreeable  Reserved with Strangers   \n",
       "\n",
       "    grooming_frequency_category shedding_category  \n",
       "88              Weekly Brushing          Frequent  \n",
       "106             Weekly Brushing         Regularly  \n",
       "34        Occasional Bath/Brush        Infrequent  "
      ]
     },
     "execution_count": 28,
     "metadata": {},
     "output_type": "execute_result"
    }
   ],
   "source": [
    "query = \"What breeds are known for being both protective and good with families?\"\n",
    "recommendation = get_recommendation(query, data, embeddings, model, top_k=3)\n",
    "recommendation[['Dog_name',\n",
    "        'description',\n",
    "        'temperament',\n",
    "        'energy_level_category',\n",
    "        'trainability_category',\n",
    "        'demeanor_category',\n",
    "        'grooming_frequency_category',\n",
    "        'shedding_category'\n",
    "    ]]"
   ]
  },
  {
   "cell_type": "code",
   "execution_count": 30,
   "metadata": {},
   "outputs": [
    {
     "data": {
      "text/plain": [
       "'The Dalmatian’s delightful, eye-catching spots of black or liver adorn one of the most distinctive coats in the animal kingdom. Beneath the spots is a graceful, elegantly proportioned trotting dog standing between 19 and 23 inches at the shoulder. Dals are muscular, built to go the distance; the powerful hindquarters provide the drive behind the smooth, effortless gait.The Dal was originally bred to guard horses and coaches, and some of the old protective instinct remains. Reserved and dignified, Dals can be aloof with strangers and are dependable watchdogs. With their preferred humans, Dals are bright, loyal, and loving house dogs. They are strong, active athletes with great stamina—a wonderful partner for runners and hikers. The dignified Dalmatian, dogdom\\'s citizen of the world, is famed for his spotted coat and unique job description. During their long history, these \"coach dogs\" have accompanied the horse-drawn rigs of nobles, gypsies, and firefighters.'"
      ]
     },
     "execution_count": 30,
     "metadata": {},
     "output_type": "execute_result"
    }
   ],
   "source": [
    "recommendation.description.iloc[0]"
   ]
  },
  {
   "cell_type": "code",
   "execution_count": null,
   "metadata": {},
   "outputs": [],
   "source": []
  }
 ],
 "metadata": {
  "kernelspec": {
   "display_name": "mle-dev",
   "language": "python",
   "name": "python3"
  },
  "language_info": {
   "codemirror_mode": {
    "name": "ipython",
    "version": 3
   },
   "file_extension": ".py",
   "mimetype": "text/x-python",
   "name": "python",
   "nbconvert_exporter": "python",
   "pygments_lexer": "ipython3",
   "version": "3.10.8"
  }
 },
 "nbformat": 4,
 "nbformat_minor": 2
}
